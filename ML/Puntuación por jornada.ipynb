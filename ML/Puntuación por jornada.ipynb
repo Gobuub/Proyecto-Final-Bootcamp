{
 "cells": [
  {
   "cell_type": "code",
   "execution_count": null,
   "id": "0eb8e689",
   "metadata": {},
   "outputs": [],
   "source": [
    "import matplotlib.pyplot as plt\n",
    "import pandas as pd\n",
    "import numpy as np"
   ]
  },
  {
   "cell_type": "code",
   "execution_count": null,
   "id": "6a659975",
   "metadata": {},
   "outputs": [],
   "source": [
    "pts = [59,45,78,67,52,50,48,28,50,45,40,72,44,66,63,64,71,54,60,60,50,52,95,45,89,67,55,71,81,71,50,39,44,58]\n",
    "jornadas = [i for i in range(1,35)]\n",
    "\n",
    "dtc = dict(zip(jornadas,pts))\n"
   ]
  },
  {
   "cell_type": "code",
   "execution_count": null,
   "id": "db0f72ba",
   "metadata": {},
   "outputs": [],
   "source": [
    "df = pd.DataFrame(pts, columns=['Pts'], index=jornadas)\n"
   ]
  },
  {
   "cell_type": "code",
   "execution_count": null,
   "id": "4e543689",
   "metadata": {},
   "outputs": [],
   "source": [
    "values = df.values\n",
    "nothing, etl, ml = values[0:15, :], values[14:27,:], values[26:, :]"
   ]
  },
  {
   "cell_type": "code",
   "execution_count": null,
   "id": "55ce3e7e",
   "metadata": {},
   "outputs": [],
   "source": [
    "index = df.index.values\n",
    "plt.figure(figsize=(15,4))\n",
    "plt.plot(index[0:15],nothing,c='green')\n",
    "plt.plot(index[14:27],etl,c='blue',alpha=0.7)\n",
    "plt.plot(index[26:],ml,c='orange',alpha=0.7)\n",
    "plt.legend(['Nothing','EDA', 'ML'])\n",
    "plt.axvline(15, c=\"r\")\n",
    "plt.axvline(27, c=\"r\")\n",
    "plt.axvspan(0,15,facecolor='g', alpha=0.15)\n",
    "plt.axvspan(15,27,facecolor='b', alpha=0.15)\n",
    "plt.axvspan(27,34,facecolor='orange', alpha=0.15)\n",
    "plt.title('Puntuación por Jornada')\n",
    "plt.xlabel('Jornada')\n",
    "plt.ylabel('Puntuación')\n",
    "plt.text(6,90, 'Nothing', fontsize=16, color='g')\n",
    "plt.text(20,90, 'EDA', fontsize=16, color='b')\n",
    "plt.text(30,90, 'ML', fontsize=16, color='red')\n",
    "plt.grid()"
   ]
  },
  {
   "cell_type": "code",
   "execution_count": null,
   "id": "3f24b80f",
   "metadata": {},
   "outputs": [],
   "source": [
    "np.mean(pts[:15])"
   ]
  },
  {
   "cell_type": "code",
   "execution_count": null,
   "id": "fedfb39d",
   "metadata": {},
   "outputs": [],
   "source": [
    "np.mean(pts[15:27])"
   ]
  },
  {
   "cell_type": "code",
   "execution_count": null,
   "id": "ba7e2c4c",
   "metadata": {},
   "outputs": [],
   "source": [
    "np.mean(pts[27:])"
   ]
  },
  {
   "cell_type": "code",
   "execution_count": null,
   "id": "9c0b3f83",
   "metadata": {},
   "outputs": [],
   "source": []
  }
 ],
 "metadata": {
  "kernelspec": {
   "display_name": "Python 3 (ipykernel)",
   "language": "python",
   "name": "python3"
  },
  "language_info": {
   "codemirror_mode": {
    "name": "ipython",
    "version": 3
   },
   "file_extension": ".py",
   "mimetype": "text/x-python",
   "name": "python",
   "nbconvert_exporter": "python",
   "pygments_lexer": "ipython3",
   "version": "3.8.11"
  }
 },
 "nbformat": 4,
 "nbformat_minor": 5
}
