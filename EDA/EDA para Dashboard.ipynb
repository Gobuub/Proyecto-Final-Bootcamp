{
 "cells": [
  {
   "cell_type": "code",
   "execution_count": null,
   "id": "d6998911",
   "metadata": {},
   "outputs": [],
   "source": [
    "import pandas as pd\n",
    "import numpy as np\n",
    "pd.set_option('display.max_columns', None)\n",
    "pd.set_option('display.max_rows', None)"
   ]
  },
  {
   "cell_type": "markdown",
   "id": "a0305804",
   "metadata": {},
   "source": [
    "## Primero cargamos los datos sobre los que queremos realizar el EDA"
   ]
  },
  {
   "cell_type": "code",
   "execution_count": null,
   "id": "2c3e6265",
   "metadata": {},
   "outputs": [],
   "source": [
    "journey = pd.read_csv('../data/pruebas/comunio_J34.csv')"
   ]
  },
  {
   "cell_type": "code",
   "execution_count": null,
   "id": "e97465d9",
   "metadata": {},
   "outputs": [],
   "source": [
    "journey.info()"
   ]
  },
  {
   "cell_type": "code",
   "execution_count": null,
   "id": "559a7db7",
   "metadata": {},
   "outputs": [],
   "source": [
    "journey = journey.drop(['Last_5_games_points'], axis=1)"
   ]
  },
  {
   "cell_type": "markdown",
   "id": "372db32f",
   "metadata": {},
   "source": [
    "## Filtramos los datos para\n",
    "\n",
    "    Con este filtro extraemos los jugadores con mejores estadísticas, respecto a la puntuación total obtenida durante lo que llevamos de temporada."
   ]
  },
  {
   "cell_type": "code",
   "execution_count": null,
   "id": "987fa916",
   "metadata": {},
   "outputs": [],
   "source": [
    "gk = journey.loc[journey['Position']=='PT'].sort_values('Total_Points', ascending=False)[0:5]\n",
    "df = journey.loc[journey['Position']=='DF'].sort_values('Total_Points', ascending=False)[0:10]\n",
    "md = journey.loc[journey['Position']=='MD'].sort_values('Total_Points', ascending=False)[:10]\n",
    "dl = journey.loc[journey['Position']=='DL'].sort_values('Total_Points', ascending=False)[:10]"
   ]
  },
  {
   "cell_type": "code",
   "execution_count": null,
   "id": "18b05b94",
   "metadata": {},
   "outputs": [],
   "source": [
    "top_players = pd.DataFrame(gk)"
   ]
  },
  {
   "cell_type": "code",
   "execution_count": null,
   "id": "163d3cbe",
   "metadata": {},
   "outputs": [],
   "source": [
    "top_players = top_players.append(df)"
   ]
  },
  {
   "cell_type": "code",
   "execution_count": null,
   "id": "71c175e2",
   "metadata": {},
   "outputs": [],
   "source": [
    "top_players = top_players.append(md)\n",
    "top_players = top_players.append(dl)"
   ]
  },
  {
   "cell_type": "markdown",
   "id": "4370c0aa",
   "metadata": {},
   "source": [
    "## Hacemos algo de data enginering\n",
    "\n",
    "    Generamos columnas nuevas a partir de los datos que tenemos para tener algo más de información."
   ]
  },
  {
   "cell_type": "code",
   "execution_count": null,
   "id": "6881a38a",
   "metadata": {},
   "outputs": [],
   "source": [
    "top_players['Price_per_Total_Points'] = top_players['Value']/top_players.Total_Points"
   ]
  },
  {
   "cell_type": "code",
   "execution_count": null,
   "id": "33c8c65b",
   "metadata": {},
   "outputs": [],
   "source": [
    "ppp = []\n",
    "for value in top_players.Price_per_Total_Points:\n",
    "\n",
    "    value = '{0:.2f}'.format(value)\n",
    "    \n",
    "    ppp.append(value)"
   ]
  },
  {
   "cell_type": "code",
   "execution_count": null,
   "id": "71e56c35",
   "metadata": {},
   "outputs": [],
   "source": [
    "top_players.Price_per_Total_Points = ppp\n"
   ]
  },
  {
   "cell_type": "code",
   "execution_count": null,
   "id": "e60e806d",
   "metadata": {},
   "outputs": [],
   "source": [
    "Price_per_Points_Last_5_J = top_players['Value']/ (top_players['J_30']+top_players['J_31']+ top_players['J_32']+top_players['J_33']+top_players['J_34'])\n",
    "\n",
    "pppl5j = []\n",
    "\n",
    "for value in Price_per_Points_Last_5_J:\n",
    "    value = '{0:.2f}'.format(value)\n",
    "    pppl5j.append(value)\n",
    "\n",
    "top_players['Price_per_Point_Last_5_J']= pppl5j"
   ]
  },
  {
   "cell_type": "code",
   "execution_count": null,
   "id": "f3279eba",
   "metadata": {},
   "outputs": [],
   "source": [
    "top_players.info()"
   ]
  },
  {
   "cell_type": "code",
   "execution_count": null,
   "id": "eec3ab50",
   "metadata": {},
   "outputs": [],
   "source": [
    "top_players"
   ]
  },
  {
   "cell_type": "markdown",
   "id": "12784dd9",
   "metadata": {},
   "source": [
    "## Guardamos el dataset resultante que utlizaremos en Tableau o Power Bi"
   ]
  },
  {
   "cell_type": "code",
   "execution_count": null,
   "id": "b8bca938",
   "metadata": {},
   "outputs": [],
   "source": [
    "top_players.to_excel('../data/comunio_tableau_J34.xlsx', sheet_name='top_players')"
   ]
  },
  {
   "cell_type": "markdown",
   "id": "f08472b2",
   "metadata": {},
   "source": [
    "## Hacemos lo mismo que antes pero esta vez filtrando por la media de puntos obtenidos en las ultimas 5 jornadas"
   ]
  },
  {
   "cell_type": "code",
   "execution_count": null,
   "id": "8d9577be",
   "metadata": {},
   "outputs": [],
   "source": [
    "gk = journey.loc[journey['Position']=='PT'].sort_values('Avg_last_5_games', ascending=False)[0:5]\n",
    "df = journey.loc[journey['Position']=='DF'].sort_values('Avg_last_5_games', ascending=False)[0:10]\n",
    "md = journey.loc[journey['Position']=='MD'].sort_values('Avg_last_5_games', ascending=False)[:10]\n",
    "dl = journey.loc[journey['Position']=='DL'].sort_values('Avg_last_5_games', ascending=False)[:10]\n",
    "top_players_avg_last_5_J = pd.DataFrame(gk)\n",
    "top_players_avg_last_5_J = top_players_avg_last_5_J.append(df)\n",
    "top_players_avg_last_5_J = top_players_avg_last_5_J.append(md)\n",
    "top_players_avg_last_5_J = top_players_avg_last_5_J.append(dl)\n",
    "top_players_avg_last_5_J['Price_per_Total_Points'] = top_players_avg_last_5_J['Value']/top_players_avg_last_5_J.Total_Points\n",
    "ppp = []\n",
    "for value in top_players_avg_last_5_J.Price_per_Total_Points:\n",
    "\n",
    "    value = '{0:.2f}'.format(value)\n",
    "    \n",
    "    ppp.append(value)\n",
    "top_players_avg_last_5_J.Price_per_Total_Points = ppp\n",
    "Price_per_Points_Last_5_J = top_players_avg_last_5_J['Value']/ (top_players_avg_last_5_J['J_30']+top_players_avg_last_5_J['J_31']+ top_players_avg_last_5_J['J_32']+top_players_avg_last_5_J['J_33']+top_players_avg_last_5_J['J_34'])\n",
    "\n",
    "pppl5j = []\n",
    "\n",
    "for value in Price_per_Points_Last_5_J:\n",
    "    value = '{0:.2f}'.format(value)\n",
    "    pppl5j.append(value)\n",
    "\n",
    "top_players_avg_last_5_J['Price_per_Point_Last_5_J']= pppl5j\n",
    "top_players_avg_last_5_J.info()"
   ]
  },
  {
   "cell_type": "code",
   "execution_count": null,
   "id": "163e1e94",
   "metadata": {},
   "outputs": [],
   "source": []
  }
 ],
 "metadata": {
  "kernelspec": {
   "display_name": "Python 3 (ipykernel)",
   "language": "python",
   "name": "python3"
  },
  "language_info": {
   "codemirror_mode": {
    "name": "ipython",
    "version": 3
   },
   "file_extension": ".py",
   "mimetype": "text/x-python",
   "name": "python",
   "nbconvert_exporter": "python",
   "pygments_lexer": "ipython3",
   "version": "3.9.7"
  }
 },
 "nbformat": 4,
 "nbformat_minor": 5
}
